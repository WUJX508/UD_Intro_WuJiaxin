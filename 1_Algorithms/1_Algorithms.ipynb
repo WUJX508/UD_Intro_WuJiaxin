{
 "cells": [
  {
   "cell_type": "markdown",
   "id": "51854152",
   "metadata": {},
   "source": [
    "# Exercise 00"
   ]
  },
  {
   "cell_type": "code",
   "execution_count": 11,
   "id": "25ee7c6d",
   "metadata": {},
   "outputs": [
    {
     "name": "stdout",
     "output_type": "stream",
     "text": [
      "[0, 5, 10, 15, 20, 25, 30, 35, 40, 45, 50, 55, 60, 65, 70, 75, 80, 85, 90, 95]\n"
     ]
    }
   ],
   "source": [
    "myList = list(range(20))\n",
    "newList = []\n",
    "for i in myList:\n",
    "    newList.append(i*5)\n",
    "print(newList)"
   ]
  },
  {
   "cell_type": "code",
   "execution_count": 9,
   "id": "8bd611fc",
   "metadata": {},
   "outputs": [
    {
     "name": "stdout",
     "output_type": "stream",
     "text": [
      "[0, 5, 10, 15, 20, 25, 30, 35, 40, 45, 50, 55, 60, 65, 70, 75, 80, 85, 90, 95]\n"
     ]
    }
   ],
   "source": [
    "myList = list(range(20))\n",
    "newList = [i * 5 for i in myList]\n",
    "print(newList)"
   ]
  },
  {
   "cell_type": "markdown",
   "id": "1d3cd21d",
   "metadata": {},
   "source": [
    "# Exercise 01"
   ]
  },
  {
   "cell_type": "code",
   "execution_count": 59,
   "id": "e87af739",
   "metadata": {},
   "outputs": [],
   "source": [
    "def dividers(x):\n",
    "    max = 1\n",
    "    for i in range(1,x):\n",
    "        if x%i==0:\n",
    "            max = i\n",
    "            print(i)\n",
    "    return max"
   ]
  },
  {
   "cell_type": "code",
   "execution_count": 62,
   "id": "45e838a9",
   "metadata": {
    "scrolled": true
   },
   "outputs": [
    {
     "name": "stdout",
     "output_type": "stream",
     "text": [
      "1\n",
      "5\n",
      "7\n",
      "35\n",
      "49\n"
     ]
    },
    {
     "data": {
      "text/plain": [
       "49"
      ]
     },
     "execution_count": 62,
     "metadata": {},
     "output_type": "execute_result"
    }
   ],
   "source": [
    "dividers(245)"
   ]
  },
  {
   "cell_type": "markdown",
   "id": "6116ecbf",
   "metadata": {},
   "source": [
    "# Exercise 02"
   ]
  },
  {
   "cell_type": "code",
   "execution_count": 306,
   "id": "dafbca6a",
   "metadata": {},
   "outputs": [],
   "source": [
    "myDict = {\n",
    "    'Name':'Pikachu',\n",
    "    'Gender':'Male',\n",
    "    'Property':'Electricity',\n",
    "    'Height':\"40\",\n",
    "    'Weight':'40',\n",
    "    'Owner':'Ash'}"
   ]
  },
  {
   "cell_type": "code",
   "execution_count": 341,
   "id": "d52ac89e",
   "metadata": {},
   "outputs": [],
   "source": [
    "def occur(d,x):\n",
    "    for i in d.keys():\n",
    "        if x == i:\n",
    "            return True\n",
    "    else:\n",
    "        return False"
   ]
  },
  {
   "cell_type": "code",
   "execution_count": 342,
   "id": "90be8db4",
   "metadata": {},
   "outputs": [
    {
     "data": {
      "text/plain": [
       "True"
      ]
     },
     "execution_count": 342,
     "metadata": {},
     "output_type": "execute_result"
    }
   ],
   "source": [
    "occur(myDict,'Gender')"
   ]
  },
  {
   "cell_type": "code",
   "execution_count": 343,
   "id": "0523262f",
   "metadata": {},
   "outputs": [
    {
     "data": {
      "text/plain": [
       "False"
      ]
     },
     "execution_count": 343,
     "metadata": {},
     "output_type": "execute_result"
    }
   ],
   "source": [
    "occur(myDict,'xxx')"
   ]
  },
  {
   "cell_type": "code",
   "execution_count": 344,
   "id": "ba75a7e8",
   "metadata": {},
   "outputs": [],
   "source": [
    "def exchange(d):\n",
    "    newDict = {}\n",
    "    for k in d.keys():\n",
    "        if occur(newDict,d[k]):\n",
    "            newDict[d[k]] = [newDict[d[k]],k]\n",
    "        else:\n",
    "            newDict[d[k]]=k\n",
    "    return newDict"
   ]
  },
  {
   "cell_type": "code",
   "execution_count": 345,
   "id": "08ed39cb",
   "metadata": {},
   "outputs": [
    {
     "data": {
      "text/plain": [
       "{'Pikachu': 'Name',\n",
       " 'Male': 'Gender',\n",
       " 'Electricity': 'Property',\n",
       " '40': ['Height', 'Weight'],\n",
       " 'Ash': 'Owner'}"
      ]
     },
     "execution_count": 345,
     "metadata": {},
     "output_type": "execute_result"
    }
   ],
   "source": [
    "exchange(myDict)"
   ]
  },
  {
   "cell_type": "markdown",
   "id": "7c1b9c30",
   "metadata": {},
   "source": [
    "# Exercise 03"
   ]
  },
  {
   "cell_type": "code",
   "execution_count": 242,
   "id": "d628ce0c",
   "metadata": {},
   "outputs": [],
   "source": [
    "Fibonacci = {}\n",
    "def Fib(n):\n",
    "    x1=0\n",
    "    x2=1\n",
    "   \n",
    "    for i in range(n):\n",
    "        Fibonacci[i]=x1\n",
    "        x3=x1+x2\n",
    "        x1=x2\n",
    "        x2=x3\n",
    "    return Fibonacci"
   ]
  },
  {
   "cell_type": "code",
   "execution_count": 243,
   "id": "1c855ba2",
   "metadata": {},
   "outputs": [
    {
     "data": {
      "text/plain": [
       "{0: 0,\n",
       " 1: 1,\n",
       " 2: 1,\n",
       " 3: 2,\n",
       " 4: 3,\n",
       " 5: 5,\n",
       " 6: 8,\n",
       " 7: 13,\n",
       " 8: 21,\n",
       " 9: 34,\n",
       " 10: 55,\n",
       " 11: 89,\n",
       " 12: 144}"
      ]
     },
     "execution_count": 243,
     "metadata": {},
     "output_type": "execute_result"
    }
   ],
   "source": [
    "Fib(13)"
   ]
  },
  {
   "cell_type": "code",
   "execution_count": 270,
   "id": "c71167da",
   "metadata": {
    "scrolled": true
   },
   "outputs": [
    {
     "data": {
      "text/plain": [
       "144"
      ]
     },
     "execution_count": 270,
     "metadata": {},
     "output_type": "execute_result"
    }
   ],
   "source": [
    "Fibonacci[12]"
   ]
  },
  {
   "cell_type": "code",
   "execution_count": null,
   "id": "356e36c5",
   "metadata": {},
   "outputs": [],
   "source": []
  }
 ],
 "metadata": {
  "kernelspec": {
   "display_name": "Python 3 (ipykernel)",
   "language": "python",
   "name": "python3"
  },
  "language_info": {
   "codemirror_mode": {
    "name": "ipython",
    "version": 3
   },
   "file_extension": ".py",
   "mimetype": "text/x-python",
   "name": "python",
   "nbconvert_exporter": "python",
   "pygments_lexer": "ipython3",
   "version": "3.8.18"
  }
 },
 "nbformat": 4,
 "nbformat_minor": 5
}
