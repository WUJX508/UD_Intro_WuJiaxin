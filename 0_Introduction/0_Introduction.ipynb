{
 "cells": [
  {
   "cell_type": "markdown",
   "id": "cb25ec83",
   "metadata": {},
   "source": [
    "## Exercise 00"
   ]
  },
  {
   "cell_type": "code",
   "execution_count": 3,
   "id": "54171bca",
   "metadata": {},
   "outputs": [
    {
     "name": "stdout",
     "output_type": "stream",
     "text": [
      "Introduction to Programming\n"
     ]
    }
   ],
   "source": [
    "print(\"Introduction to Programming\")"
   ]
  },
  {
   "cell_type": "markdown",
   "id": "31088a38",
   "metadata": {},
   "source": [
    "## Exercise 02"
   ]
  },
  {
   "cell_type": "code",
   "execution_count": 6,
   "id": "9e701038",
   "metadata": {},
   "outputs": [
    {
     "name": "stdout",
     "output_type": "stream",
     "text": [
      "Wu,Jiaxin\n",
      "jiaxin.wu.23@ucl.ac.uk\n",
      "26\n"
     ]
    }
   ],
   "source": [
    "name = \"Wu,Jiaxin\"\n",
    "email =  \"jiaxin.wu.23@ucl.ac.uk\"\n",
    "age = \"26\"\n",
    "for x in [name, email, age]:\n",
    "    print(x)"
   ]
  },
  {
   "cell_type": "markdown",
   "id": "cb05c42d",
   "metadata": {},
   "source": [
    "## Exercise 03"
   ]
  },
  {
   "cell_type": "code",
   "execution_count": 7,
   "id": "9ba7af13",
   "metadata": {},
   "outputs": [
    {
     "name": "stdout",
     "output_type": "stream",
     "text": [
      "0\n",
      "178\n",
      "-21\n",
      "59.95918367346939\n",
      "4337328\n",
      "3833759992447475122176\n"
     ]
    }
   ],
   "source": [
    "print(0)\n",
    "print(178)\n",
    "print(-21)\n",
    "print(2938/49)\n",
    "print(436*9948)\n",
    "print(12**20)"
   ]
  },
  {
   "cell_type": "markdown",
   "id": "6a306697",
   "metadata": {},
   "source": [
    "## Exercise 04"
   ]
  },
  {
   "cell_type": "code",
   "execution_count": 21,
   "id": "3d932b12",
   "metadata": {
    "scrolled": true
   },
   "outputs": [
    {
     "name": "stdout",
     "output_type": "stream",
     "text": [
      "-0.8732972972139946\n",
      "0.8623188722876839\n",
      "0.9999999999999999\n"
     ]
    }
   ],
   "source": [
    "import math\n",
    "print(math.sin(200))\n",
    "print(math.cos(100))\n",
    "print(math.tan(math.pi/4))"
   ]
  },
  {
   "cell_type": "markdown",
   "id": "911d3887",
   "metadata": {},
   "source": [
    "## Exercise 05"
   ]
  },
  {
   "cell_type": "code",
   "execution_count": 25,
   "id": "0a8e8fe4",
   "metadata": {},
   "outputs": [
    {
     "name": "stdout",
     "output_type": "stream",
     "text": [
      "your first name:Taiyi\n",
      "your last name:Wu\n",
      "Taiyi Wu\n"
     ]
    }
   ],
   "source": [
    "firstname = input(\"your first name:\")\n",
    "lastname = input(\"your last name:\")\n",
    "\n",
    "print(firstname +\" \"+ lastname)"
   ]
  },
  {
   "cell_type": "markdown",
   "id": "e2455ccf",
   "metadata": {},
   "source": [
    "## Exercise 06"
   ]
  },
  {
   "cell_type": "code",
   "execution_count": 1,
   "id": "c52c5ddd",
   "metadata": {},
   "outputs": [
    {
     "name": "stdout",
     "output_type": "stream",
     "text": [
      "yourNumber:-12.2\n",
      "It is a negative number!\n"
     ]
    }
   ],
   "source": [
    "x = input(\"yourNumber:\")\n",
    "\n",
    "if(float(x)>0):\n",
    "    print(\"It is a positive number!\")\n",
    "elif(float(x)<0):\n",
    "    print(\"It is a negative number!\")\n",
    "else:\n",
    "    print(\"It is zero!\")"
   ]
  },
  {
   "cell_type": "markdown",
   "id": "d2eefe5b",
   "metadata": {},
   "source": [
    "## Exercise 07"
   ]
  },
  {
   "cell_type": "code",
   "execution_count": 64,
   "id": "4af3f479",
   "metadata": {},
   "outputs": [
    {
     "name": "stdout",
     "output_type": "stream",
     "text": [
      "guess a number between 1-20 : 1\n",
      "Smaller!try it again \n",
      "\n",
      "10\n",
      "Smaller!try it again \n",
      "\n",
      "15\n",
      "Smaller!try it again \n",
      "\n",
      "19\n",
      "Bigger!try it again \n",
      "\n",
      "18\n",
      "Bigger!try it again \n",
      "\n",
      "17\n",
      "Bigger!try it again \n",
      "\n",
      "16\n",
      "Congratulation! It is correct!\n",
      "* You have tried 7 times!\n"
     ]
    }
   ],
   "source": [
    "import random\n",
    "n0 = random.randint(1,21)\n",
    "t=1\n",
    "x = int(input(\"guess a number between 1-20 : \"))\n",
    "\n",
    "while(x!=n0):\n",
    "    if(x>n0):\n",
    "        print(\"Bigger!try it again \\n\")\n",
    "    elif(x<n0):\n",
    "        print(\"Smaller!try it again \\n\")\n",
    "    m = int(input())\n",
    "    x = m\n",
    "    t=t+1\n",
    "    \n",
    "print(\"Congratulation! It is correct!\")\n",
    "print(\"* You have tried \"+ str(t)+ \" times!\")"
   ]
  },
  {
   "cell_type": "markdown",
   "id": "78801594",
   "metadata": {},
   "source": [
    "## Exercise 08"
   ]
  },
  {
   "cell_type": "code",
   "execution_count": 72,
   "id": "9125cb31",
   "metadata": {},
   "outputs": [
    {
     "name": "stdout",
     "output_type": "stream",
     "text": [
      "give me a sentence: I like python very much.\n",
      "['i', 'like', 'much', 'python', 'very']\n"
     ]
    }
   ],
   "source": [
    "sentence = input(\"give me a sentence: \")\n",
    "words.sort()\n",
    "print(words)"
   ]
  },
  {
   "cell_type": "markdown",
   "id": "bb88dfc9",
   "metadata": {},
   "source": [
    "## Exercise 09"
   ]
  },
  {
   "cell_type": "code",
   "execution_count": 49,
   "id": "b9bca685",
   "metadata": {},
   "outputs": [
    {
     "name": "stdout",
     "output_type": "stream",
     "text": [
      "height of christmas tree: 9\n",
      "         *\n",
      "        ***\n",
      "       *****\n",
      "      *******\n",
      "     *********\n",
      "    ***********\n",
      "   *************\n",
      "  ***************\n",
      " *****************\n",
      "         |\n"
     ]
    }
   ],
   "source": [
    "x = int(input(\"height of christmas tree: \"))\n",
    "for i in range(x):\n",
    "    print(\" \"*(x-i-1),\"*\"*(i*2+1))\n",
    "print(\" \"*x + \"|\")"
   ]
  },
  {
   "cell_type": "markdown",
   "id": "d822d2d8",
   "metadata": {},
   "source": [
    "## Exercise 10"
   ]
  },
  {
   "cell_type": "code",
   "execution_count": 4,
   "id": "ccb0c7d4",
   "metadata": {},
   "outputs": [
    {
     "name": "stdout",
     "output_type": "stream",
     "text": [
      "22\n",
      "1\n",
      "1\n",
      "1\n",
      "2\n",
      "2\n",
      "3\n",
      "4\n",
      "5\n",
      "7\n",
      "9\n",
      "12\n",
      "16\n",
      "21\n",
      "28\n",
      "37\n",
      "49\n",
      "65\n",
      "86\n",
      "114\n",
      "151\n",
      "200\n",
      "265\n"
     ]
    }
   ],
   "source": [
    "n1=1\n",
    "n2=1\n",
    "n3=1\n",
    "\n",
    "n=int(input())\n",
    "for i in range(n):\n",
    "    print(n1)\n",
    "    n4= n1+n2\n",
    "    n1=n2\n",
    "    n2=n3\n",
    "    n3=n4"
   ]
  }
 ],
 "metadata": {
  "kernelspec": {
   "display_name": "Python 3 (ipykernel)",
   "language": "python",
   "name": "python3"
  },
  "language_info": {
   "codemirror_mode": {
    "name": "ipython",
    "version": 3
   },
   "file_extension": ".py",
   "mimetype": "text/x-python",
   "name": "python",
   "nbconvert_exporter": "python",
   "pygments_lexer": "ipython3",
   "version": "3.11.5"
  }
 },
 "nbformat": 4,
 "nbformat_minor": 5
}
