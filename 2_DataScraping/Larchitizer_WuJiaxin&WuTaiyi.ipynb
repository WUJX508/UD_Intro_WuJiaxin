{
 "cells": [
  {
   "cell_type": "code",
   "execution_count": 25,
   "id": "5d871046",
   "metadata": {},
   "outputs": [],
   "source": [
    "import selenium \n",
    "from selenium import webdriver\n",
    "from selenium.webdriver.common.by import By\n",
    "from selenium.webdriver.common.keys import Keys\n",
    "from selenium.webdriver.support.ui import Select\n",
    "from selenium.webdriver.support.ui import WebDriverWait\n",
    "from selenium.webdriver.support import expected_conditions as EC\n",
    "from time import sleep\n",
    "\n",
    "url=\"https://architizer.com/\"\n"
   ]
  },
  {
   "cell_type": "code",
   "execution_count": 47,
   "id": "4ff89cc3",
   "metadata": {},
   "outputs": [],
   "source": [
    "def extract_page_data(driver):\n",
    "    \n",
    "    articles = driver.find_elements(\"class name\", \"l-grid__item\")\n",
    "\n",
    "    for i in range(len(articles)):\n",
    "        try:\n",
    "            header = articles[i].find_element(\"class name\",\"c-card__header\").text\n",
    "            print(header)\n",
    "            description = articles[i].find_element(\"class name\",\"c-card__excerpt\").text\n",
    "            \n",
    "            link = articles[i].find_element(\"css selector\",\".c-card__title>a\").get_attribute(\"href\")\n",
    "            \n",
    "            header_list.append(header)\n",
    "            description_list.append(description)\n",
    "            link_list.append(link)\n",
    "            sleep(2)\n",
    "        except:\n",
    "            pass"
   ]
  },
  {
   "cell_type": "code",
   "execution_count": 74,
   "id": "d081abf0",
   "metadata": {
    "scrolled": false
   },
   "outputs": [
    {
     "name": "stdout",
     "output_type": "stream",
     "text": [
      "25 Best Architecture Firms in London\n",
      "Watch the Construction of 100 Bishopsgate, London’s Newest\n",
      "Architectural Drawings: London’s Extraordinary “Iceberg Homes”\n",
      "Architectural Details: The Stunning Glulam Beams of London\n",
      "Blending New Projects Into Historic London With Vectorworks\n",
      "Historic in the Front, Modern in the Back: 8 London Townhouse\n",
      "Herzog & de Meuron’s First London Skyscraper Sports “Unique\n",
      "This Stunning London Renovation Features a Sunken Bath That Extends\n",
      "London’s New Landmark: Santiago Calatrava Reveals £1 Billion\n",
      "10 Brilliant Designs Revealed for New Holocaust Memorial in London\n",
      "The Lost Project: Jack Self Uncovers Mies van der Rohe’s Rejected\n",
      "Architecture in Full Flight: Zaha Hadid Architects’\n",
      "Architecture on the Market: 7 Bold Contemporary Homes in London\n",
      "London Rising: The Reinvention of London’s Waterfront in 10 Bold\n",
      "Brutalist Utopia: The Barbican Estate Lives On as an Iconic Londonian\n",
      "London Calling! Shortlist of Installations to See During the London\n",
      "“It’s My Refuge”: Amanda Levete Guides Us Through Her Beautiful\n",
      "Building the Future: How a London-Based Studio Designed a Visonary\n",
      "Concrete Beauty: A Rough Guide to London’s Brutalist Housing Estates\n",
      "Get Excited for the World’s Largest Tunnel Slide: Coming Soon\n",
      "London Calling: 8 Stylish Residential Extensions in England’s\n",
      "London Design Festival 2015 in Two Days\n",
      "Full Speed Ahead: London’s Railway Renaissance\n",
      "London Dining Guide: Designing the British Capital’s New\n",
      "Stacking Up: Is London’s Skyline Out of Control?\n",
      "On London, Tokyo, and Berlin: Your Beach Reads for This Week\n",
      "London Goes Big While NYC Goes Small: Your Midweek Must-Reads\n"
     ]
    }
   ],
   "source": [
    "header_list = []\n",
    "description_list=[]\n",
    "link_list=[]\n",
    "pdf_list=[]\n",
    "\n",
    "driver = webdriver.Chrome()\n",
    "driver.get(url)\n",
    "\n",
    "search_query = driver.find_element(\"name\",\"s\")\n",
    "search_query.send_keys('London\\n')\n",
    "sleep(2)\n",
    "\n",
    "for page_num in range(3):\n",
    "\n",
    "    extract_page_data(driver)\n",
    "    driver.find_element(\"xpath\",\"/html/body/div[2]/nav/ul/li[@class='c-pagination__item is-next']\").click()\n",
    "    sleep(2)\n",
    "    \n",
    "driver.quit()"
   ]
  },
  {
   "cell_type": "code",
   "execution_count": 77,
   "id": "affcd140",
   "metadata": {},
   "outputs": [],
   "source": [
    "import csv\n",
    "\n",
    "data=zip(header_list,description_list,link_list)\n",
    "data_list = list(data)\n",
    "\n",
    "#Write all the data to a csv\n",
    "with open('architizer_london.csv', 'w',encoding='utf-8',newline='') as csvfile: \n",
    "    writer = csv.writer(csvfile) \n",
    "    for row in data_list:\n",
    "        writer.writerow(row)\n",
    "\n",
    "with open('onlylinks.csv', 'w',newline='',encoding='utf-8') as csvfile: \n",
    "    writer = csv.writer(csvfile) \n",
    "    for link in link_list:\n",
    "        writer.writerow([link])"
   ]
  },
  {
   "cell_type": "code",
   "execution_count": 126,
   "id": "478d97e1",
   "metadata": {},
   "outputs": [
    {
     "name": "stdout",
     "output_type": "stream",
     "text": [
      "https://blog.architizer.com/wp-content/uploads/1540907431656Heatherwick-Studio_Coal-Drops-Yard_n36_Credit_HuftonCrow-3.jpg\n",
      "https://blog.architizer.com/wp-content/uploads/evcowiewd.jpg\n",
      "https://blog.architizer.com/wp-content/uploads/Project_1449_FreemensPool_Landscape_1449_N56686.jpg\n",
      "https://blog.architizer.com/wp-content/uploads/model-photo-montage-2-1.jpg\n",
      "https://architizer-prod.imgix.net/media/1472490233400237b_Evering_Rd-5a.jpg?fit=max&w=1140&q=60&auto=format&auto=compress&cs=strip&h=569\n",
      "https://architizer-prod.imgix.net/media/1491335843208HdM_London.jpg?fit=max&w=1140&q=60&auto=format&auto=compress&cs=strip&h=569\n",
      "https://architizer-prod.imgix.net/media/1486683833290148641872689301.jpg?fit=max&w=1140&q=60&auto=format&auto=compress&cs=strip&h=569\n",
      "https://architizer-prod.imgix.net/media/14860647009226.Arial_Peninsula_Place_Uniform..jpg?fit=max&w=1140&q=60&auto=format&auto=compress&cs=strip&h=569\n",
      "https://architizer-prod.imgix.net/media/1485556167464Screen_Shot_2017-01-27_at_5.29.08_PM.png?fit=max&w=1140&q=60&auto=format&auto=compress&cs=strip&h=569\n",
      "https://architizer-prod.imgix.net/media/1485345029122mies-2377.8.jpg?fit=max&w=1140&q=60&auto=format&auto=compress&cs=strip&h=569\n",
      "https://architizer-prod.imgix.net/media/1481130768646Winton_Gallery.jpg?fit=max&w=1140&q=60&auto=format&auto=compress&cs=strip&h=569\n",
      "https://architizer-prod.imgix.net/media/1480540493213Silverlight-8.jpg?fit=max&w=1140&q=60&auto=format&auto=compress&cs=strip&h=569\n",
      "https://architizer-prod.imgix.net/media/1478153410679Gensler_AD1.jpg?fit=max&w=1140&q=60&auto=format&auto=compress&cs=strip&h=569\n",
      "https://architizer-prod.imgix.net/media/1478027298762Screen_Shot_2016-11-01_at_3.06.24_PM.png?fit=max&w=1140&q=60&auto=format&auto=compress&cs=strip&h=569\n",
      "https://architizer-prod.imgix.net/media/1473886692898The_Wish_Machine_by_Autoban_Turkeys_contribution_to_the_1st_London_Design_Biennale_2016__Gareth_Gardner_1.jpg?fit=max&w=1140&q=60&auto=format&auto=compress&cs=strip&h=569\n",
      "https://architizer-prod.imgix.net/media/1471535244779Screen_Shot_2016-08-18_at_11.40.37_AM_copy.jpg?fit=max&w=1140&q=60&auto=format&auto=compress&cs=strip&h=569\n",
      "https://architizer-prod.imgix.net/media/14691628067948ace7f0aa24e6cabecb1e11ecda12522.jpg?fit=max&w=1140&q=60&auto=format&auto=compress&cs=strip&h=569\n",
      "https://architizer-prod.imgix.net/media/1457349916302QUINN_113CT_059.jpg?fit=max&w=1140&q=60&auto=format&auto=compress&cs=strip&h=569\n",
      "https://architizer-prod.imgix.net/media/1462193582939carsten-holler-slide-arcelormittal-orbit-tickets-on-sale-behind-the-scenes-video-designboom-04.jpg?fit=max&w=1140&q=60&auto=format&auto=compress&cs=strip&h=569\n",
      "https://architizer-prod.imgix.net/media/1460400216489d607f4101209ec4412941ce0e20cd801.jpg?fit=max&w=1140&q=60&auto=format&auto=compress&cs=strip&h=569\n",
      "https://architizer-prod.imgix.net/media/144295729037520150923-London-H.jpg?fit=max&w=1140&q=60&auto=format&auto=compress&cs=strip&h=569\n",
      "https://architizer-prod.imgix.net/media/1442242324794f41843a8c226af2998a9c660e4b4e9cc.jpg?fit=max&w=1140&q=60&auto=format&auto=compress&cs=strip&h=569\n",
      "https://architizer-prod.imgix.net/media/1394054591459diningRoomMed.jpg?fit=max&w=1140&q=60&auto=format&auto=compress&cs=strip&h=569\n",
      "https://architizer-prod.imgix.net/media/14393087497464bfd5a1b680b5fcad3ecfb.jpg?fit=max&w=1140&q=60&auto=format&auto=compress&cs=strip&h=569\n",
      "https://architizer-prod.imgix.net/media/14371564429949604827472_ed6cfa3341_o-cc.jpg?fit=max&w=1140&q=60&auto=format&auto=compress&cs=strip&h=569\n",
      "https://architizer-prod.imgix.net/media/1435751189387aa151e7a-414e-4195-9629-accb29633dc5-2060x1236.jpeg?fit=max&w=1140&q=60&auto=format&auto=compress&cs=strip&h=569\n"
     ]
    }
   ],
   "source": [
    "import requests\n",
    "\n",
    "driver = webdriver.Chrome()\n",
    "i=0\n",
    "\n",
    "with open(\"onlylinks.csv\", 'r',encoding='utf-8') as file:\n",
    "    csvreader = csv.reader(file)    \n",
    "    for url in csvreader:\n",
    "         \n",
    "        driver.get(url[0])\n",
    "        sleep(5)\n",
    "        \n",
    "        try:\n",
    "            imglink = driver.find_element(\"xpath\",\"/html/body/article/div[1]/header/figure/img\").get_attribute(\"src\")\n",
    "            \n",
    "            print(imglink)\n",
    "            i +=1\n",
    "            \n",
    "            response = requests.get(imglink)\n",
    "            imagename=\"image\" + str(i)+\".png\"\n",
    "            \n",
    "            if response.status_code == 200:\n",
    "                with open(imagename, \"wb\") as f:\n",
    "                    f.write(response.content)\n",
    "        except:\n",
    "            i+=1\n",
    "            pass\n",
    "        \n",
    "driver.quit()\n"
   ]
  },
  {
   "cell_type": "code",
   "execution_count": 127,
   "id": "f0b29faf",
   "metadata": {},
   "outputs": [
    {
     "name": "stdout",
     "output_type": "stream",
     "text": [
      "C:\\Users\\46981\\Workshop\n"
     ]
    }
   ],
   "source": [
    "import os\n",
    "print(os.path.abspath('.'))"
   ]
  },
  {
   "cell_type": "code",
   "execution_count": null,
   "id": "fe58d026",
   "metadata": {},
   "outputs": [],
   "source": []
  }
 ],
 "metadata": {
  "kernelspec": {
   "display_name": "Python 3 (ipykernel)",
   "language": "python",
   "name": "python3"
  },
  "language_info": {
   "codemirror_mode": {
    "name": "ipython",
    "version": 3
   },
   "file_extension": ".py",
   "mimetype": "text/x-python",
   "name": "python",
   "nbconvert_exporter": "python",
   "pygments_lexer": "ipython3",
   "version": "3.8.18"
  }
 },
 "nbformat": 4,
 "nbformat_minor": 5
}
